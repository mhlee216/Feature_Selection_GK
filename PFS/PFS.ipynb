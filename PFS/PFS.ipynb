{
 "cells": [
  {
   "cell_type": "code",
   "execution_count": null,
   "id": "3f028e62",
   "metadata": {},
   "outputs": [],
   "source": [
    "import pandas as pd\n",
    "import numpy as np"
   ]
  },
  {
   "cell_type": "code",
   "execution_count": null,
   "id": "ad4969c1",
   "metadata": {},
   "outputs": [],
   "source": [
    "df = pd.read_csv(\"../data/17051_total_data.csv\")\n",
    "df"
   ]
  },
  {
   "cell_type": "code",
   "execution_count": null,
   "id": "1ad531e5",
   "metadata": {},
   "outputs": [],
   "source": [
    "co = df.corr()\n",
    "co.to_csv('../data/corr.csv', index=False)\n",
    "co"
   ]
  },
  {
   "cell_type": "code",
   "execution_count": null,
   "id": "e918fbf8",
   "metadata": {},
   "outputs": [],
   "source": [
    "co = pd.read_csv('../data/corr.csv')\n",
    "co = co.abs()\n",
    "G_col = co[co['G_VRH'] >= np.mean(co['G_VRH'])].columns.tolist()\n",
    "G_col.remove('K_VRH')\n",
    "G_df = df[G_col]\n",
    "G_df"
   ]
  },
  {
   "cell_type": "code",
   "execution_count": null,
   "id": "b24c1b92",
   "metadata": {},
   "outputs": [],
   "source": [
    "G_df.to_csv('../data/G_corr.csv', index=False)"
   ]
  },
  {
   "cell_type": "code",
   "execution_count": null,
   "id": "e0d27370",
   "metadata": {},
   "outputs": [],
   "source": [
    "co = pd.read_csv('../data/corr.csv')\n",
    "co = co.abs()\n",
    "K_col = co[co['K_VRH'] >= np.mean(co['K_VRH'])].columns.tolist()\n",
    "K_col.remove('G_VRH')\n",
    "K_df = df[K_col]\n",
    "K_df"
   ]
  },
  {
   "cell_type": "code",
   "execution_count": null,
   "id": "b923770b",
   "metadata": {},
   "outputs": [],
   "source": [
    "K_df.to_csv('../data/K_corr.csv', index=False)"
   ]
  },
  {
   "cell_type": "code",
   "execution_count": null,
   "id": "c069c09d",
   "metadata": {},
   "outputs": [],
   "source": []
  }
 ],
 "metadata": {
  "kernelspec": {
   "display_name": "Python 3 (ipykernel)",
   "language": "python",
   "name": "python3"
  },
  "language_info": {
   "codemirror_mode": {
    "name": "ipython",
    "version": 3
   },
   "file_extension": ".py",
   "mimetype": "text/x-python",
   "name": "python",
   "nbconvert_exporter": "python",
   "pygments_lexer": "ipython3",
   "version": "3.8.12"
  }
 },
 "nbformat": 4,
 "nbformat_minor": 5
}
