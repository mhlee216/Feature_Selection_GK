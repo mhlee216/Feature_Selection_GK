{
 "cells": [
  {
   "cell_type": "code",
   "execution_count": null,
   "id": "59f26190",
   "metadata": {},
   "outputs": [],
   "source": [
    "import pandas as pd\n",
    "from modnet.preprocessing import MODData"
   ]
  },
  {
   "cell_type": "code",
   "execution_count": null,
   "id": "6a7ca3a0",
   "metadata": {},
   "outputs": [],
   "source": [
    "df = pd.read_pickle('../data/17051_data.pkl')"
   ]
  },
  {
   "cell_type": "code",
   "execution_count": null,
   "id": "93d75a23",
   "metadata": {
    "execution": {
     "iopub.execute_input": "2022-01-02T13:36:30.723365Z",
     "iopub.status.busy": "2022-01-02T13:36:30.722669Z",
     "iopub.status.idle": "2022-01-02T13:36:34.268501Z",
     "shell.execute_reply": "2022-01-02T13:36:34.269018Z"
    }
   },
   "outputs": [],
   "source": [
    "md = MODData(df['structure'], \n",
    "             targets=df[[\"K_VRH\"]].values, \n",
    "             target_names=[\"K_VRH\"], \n",
    "             structure_ids=df.index)\n",
    "\n",
    "md.featurize()"
   ]
  },
  {
   "cell_type": "code",
   "execution_count": null,
   "id": "09321539",
   "metadata": {
    "execution": {
     "iopub.execute_input": "2022-01-02T13:36:34.271461Z",
     "iopub.status.busy": "2022-01-02T13:36:34.270758Z",
     "iopub.status.idle": "2022-01-02T13:36:34.304818Z",
     "shell.execute_reply": "2022-01-02T13:36:34.305290Z"
    }
   },
   "outputs": [],
   "source": [
    "md.get_featurized_df()"
   ]
  },
  {
   "cell_type": "code",
   "execution_count": null,
   "id": "186286e4",
   "metadata": {
    "execution": {
     "iopub.execute_input": "2022-01-02T13:36:34.307517Z",
     "iopub.status.busy": "2022-01-02T13:36:34.306848Z",
     "iopub.status.idle": "2022-01-05T13:01:44.861884Z",
     "shell.execute_reply": "2022-01-05T13:01:44.862566Z"
    },
    "scrolled": true
   },
   "outputs": [],
   "source": [
    "md.feature_selection(n=-1)"
   ]
  },
  {
   "cell_type": "code",
   "execution_count": null,
   "id": "1b1684ac",
   "metadata": {
    "execution": {
     "iopub.execute_input": "2022-01-05T13:01:44.865368Z",
     "iopub.status.busy": "2022-01-05T13:01:44.864651Z",
     "iopub.status.idle": "2022-01-05T13:01:44.873421Z",
     "shell.execute_reply": "2022-01-05T13:01:44.873876Z"
    }
   },
   "outputs": [],
   "source": [
    "out = pd.DataFrame({'K_VRH':md.get_optimal_descriptors()})\n",
    "out"
   ]
  },
  {
   "cell_type": "code",
   "execution_count": null,
   "id": "c608912d",
   "metadata": {},
   "outputs": [],
   "source": [
    "df = df[out['K_VRH'].tolist()+['K_VRH']]"
   ]
  },
  {
   "cell_type": "code",
   "execution_count": null,
   "id": "c54ecef6",
   "metadata": {
    "execution": {
     "iopub.execute_input": "2022-01-05T13:01:44.876038Z",
     "iopub.status.busy": "2022-01-05T13:01:44.875379Z",
     "iopub.status.idle": "2022-01-05T13:01:44.880583Z",
     "shell.execute_reply": "2022-01-05T13:01:44.881039Z"
    }
   },
   "outputs": [],
   "source": [
    "df.to_csv('MFS_K.csv', index=False)"
   ]
  },
  {
   "cell_type": "code",
   "execution_count": null,
   "id": "41f78ac6",
   "metadata": {},
   "outputs": [],
   "source": []
  }
 ],
 "metadata": {
  "kernelspec": {
   "display_name": "Python 3 (ipykernel)",
   "language": "python",
   "name": "python3"
  },
  "language_info": {
   "codemirror_mode": {
    "name": "ipython",
    "version": 3
   },
   "file_extension": ".py",
   "mimetype": "text/x-python",
   "name": "python",
   "nbconvert_exporter": "python",
   "pygments_lexer": "ipython3",
   "version": "3.8.12"
  }
 },
 "nbformat": 4,
 "nbformat_minor": 5
}
