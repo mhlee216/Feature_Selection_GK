{
 "cells": [
  {
   "cell_type": "code",
   "execution_count": null,
   "id": "9d12ca50",
   "metadata": {},
   "outputs": [],
   "source": [
    "import pandas as pd\n",
    "from modnet.preprocessing import MODData"
   ]
  },
  {
   "cell_type": "code",
   "execution_count": null,
   "id": "93d75a23",
   "metadata": {
    "execution": {
     "iopub.execute_input": "2022-01-02T13:36:21.143162Z",
     "iopub.status.busy": "2022-01-02T13:36:21.142034Z",
     "iopub.status.idle": "2022-01-02T13:36:25.319512Z",
     "shell.execute_reply": "2022-01-02T13:36:25.320317Z"
    }
   },
   "outputs": [],
   "source": [
    "df = pd.read_pickle('../data/17051_data.pkl')"
   ]
  },
  {
   "cell_type": "code",
   "execution_count": null,
   "id": "ba51ff86",
   "metadata": {},
   "outputs": [],
   "source": [
    "md = MODData(df['structure'], \n",
    "             targets=df[[\"G_VRH\"]].values, \n",
    "             target_names=[\"G_VRH\"], \n",
    "             structure_ids=df.index)\n",
    "\n",
    "md.featurize()"
   ]
  },
  {
   "cell_type": "code",
   "execution_count": null,
   "id": "4f59e3a4",
   "metadata": {
    "execution": {
     "iopub.execute_input": "2022-01-02T13:36:25.323985Z",
     "iopub.status.busy": "2022-01-02T13:36:25.322852Z",
     "iopub.status.idle": "2022-01-02T13:36:25.374218Z",
     "shell.execute_reply": "2022-01-02T13:36:25.375332Z"
    }
   },
   "outputs": [],
   "source": [
    "md.get_featurized_df()"
   ]
  },
  {
   "cell_type": "code",
   "execution_count": null,
   "id": "186286e4",
   "metadata": {
    "execution": {
     "iopub.execute_input": "2022-01-02T13:36:25.380818Z",
     "iopub.status.busy": "2022-01-02T13:36:25.379030Z",
     "iopub.status.idle": "2022-01-05T10:07:23.785198Z",
     "shell.execute_reply": "2022-01-05T10:07:23.785782Z"
    },
    "scrolled": true
   },
   "outputs": [],
   "source": [
    "md.feature_selection(n=-1)"
   ]
  },
  {
   "cell_type": "code",
   "execution_count": null,
   "id": "1b1684ac",
   "metadata": {
    "execution": {
     "iopub.execute_input": "2022-01-05T10:07:23.803383Z",
     "iopub.status.busy": "2022-01-05T10:07:23.802707Z",
     "iopub.status.idle": "2022-01-05T10:07:23.824056Z",
     "shell.execute_reply": "2022-01-05T10:07:23.824529Z"
    }
   },
   "outputs": [],
   "source": [
    "out = pd.DataFrame({'G_VRH':md.get_optimal_descriptors()})\n",
    "out"
   ]
  },
  {
   "cell_type": "code",
   "execution_count": null,
   "id": "dd795b92",
   "metadata": {},
   "outputs": [],
   "source": [
    "df = df[out['G_VRH'].tolist()+['G_VRH']]"
   ]
  },
  {
   "cell_type": "code",
   "execution_count": null,
   "id": "c54ecef6",
   "metadata": {
    "execution": {
     "iopub.execute_input": "2022-01-05T10:07:23.826739Z",
     "iopub.status.busy": "2022-01-05T10:07:23.826075Z",
     "iopub.status.idle": "2022-01-05T10:07:23.856361Z",
     "shell.execute_reply": "2022-01-05T10:07:23.856813Z"
    }
   },
   "outputs": [],
   "source": [
    "df.to_csv('MFS_G.csv', index=False)"
   ]
  },
  {
   "cell_type": "code",
   "execution_count": null,
   "id": "0bd6cb12",
   "metadata": {},
   "outputs": [],
   "source": []
  }
 ],
 "metadata": {
  "kernelspec": {
   "display_name": "Python 3 (ipykernel)",
   "language": "python",
   "name": "python3"
  },
  "language_info": {
   "codemirror_mode": {
    "name": "ipython",
    "version": 3
   },
   "file_extension": ".py",
   "mimetype": "text/x-python",
   "name": "python",
   "nbconvert_exporter": "python",
   "pygments_lexer": "ipython3",
   "version": "3.8.12"
  }
 },
 "nbformat": 4,
 "nbformat_minor": 5
}
