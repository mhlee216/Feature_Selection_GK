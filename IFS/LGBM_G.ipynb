{
 "cells": [
  {
   "cell_type": "code",
   "execution_count": null,
   "id": "e5c44e50",
   "metadata": {},
   "outputs": [],
   "source": [
    "import pandas as pd\n",
    "import numpy as np\n",
    "import warnings\n",
    "warnings.filterwarnings(action='ignore')\n",
    "from sklearn.model_selection import train_test_split, cross_validate\n",
    "from sklearn import preprocessing\n",
    "from sklearn.metrics import r2_score, mean_squared_error, mean_absolute_error\n",
    "import matplotlib.pyplot as plt\n",
    "import seaborn as sns\n",
    "from tqdm.notebook import tqdm\n",
    "from lightgbm import LGBMRegressor"
   ]
  },
  {
   "cell_type": "code",
   "execution_count": null,
   "id": "ea94c869",
   "metadata": {},
   "outputs": [],
   "source": [
    "df = pd.read_csv(\"../data/17051_total_data.csv\")\n",
    "G = df['G_VRH']\n",
    "del df['G_VRH']\n",
    "del df['K_VRH']\n",
    "df"
   ]
  },
  {
   "cell_type": "code",
   "execution_count": null,
   "id": "9de77e83",
   "metadata": {},
   "outputs": [],
   "source": [
    "def prepro(df, target, scaling=True, test=0.2, seed=2021):\n",
    "    \n",
    "    x = df.to_numpy()\n",
    "    y = target.to_numpy()\n",
    "    \n",
    "    if scaling:\n",
    "        x = preprocessing.StandardScaler().fit_transform(x)\n",
    "        \n",
    "    x_train, x_test, y_train, y_test = train_test_split(x, y, test_size=test, shuffle=True, random_state=seed)\n",
    "    \n",
    "    return x_train, x_test, y_train, y_test"
   ]
  },
  {
   "cell_type": "code",
   "execution_count": null,
   "id": "977b5843",
   "metadata": {},
   "outputs": [],
   "source": [
    "def predict(model, x_train, x_test, y_train, y_test):\n",
    "    \n",
    "    elif model == 'LGBM':\n",
    "        reg = LGBMRegressor(boosting_type='gbdt', \n",
    "                            class_weight=None, \n",
    "                            colsample_bytree=1.0, \n",
    "                            importance_type='split', \n",
    "                            learning_rate=0.1, \n",
    "                            max_depth=-1, \n",
    "                            min_child_samples=21, \n",
    "                            min_child_weight=0.001, \n",
    "                            min_split_gain=0.9, \n",
    "                            n_estimators=140, \n",
    "                            n_jobs=-1, \n",
    "                            num_leaves=70, \n",
    "                            objective=None, \n",
    "                            random_state=2175, \n",
    "                            reg_alpha=1e-06, \n",
    "                            reg_lambda=0.5, \n",
    "                            silent='warn', \n",
    "                            subsample=1.0, \n",
    "                            subsample_for_bin=200000, \n",
    "                            subsample_freq=0, \n",
    "                            feature_fraction=0.5, \n",
    "                            bagging_freq=0, \n",
    "                            bagging_fraction=0.5)\n",
    "        \n",
    "    reg.fit(x_train, y_train)\n",
    "    y_pred = reg.predict(x_test)\n",
    "    \n",
    "    r2 = r2_score(y_test, y_pred)\n",
    "    mse = mean_squared_error(y_test, y_pred)\n",
    "    mae = mean_absolute_error(y_test, y_pred)\n",
    "    \n",
    "    feat = reg.feature_importances_\n",
    "    \n",
    "    return r2, mse, mae, y_test, y_pred, feat"
   ]
  },
  {
   "cell_type": "code",
   "execution_count": null,
   "id": "e1385af9",
   "metadata": {},
   "outputs": [],
   "source": [
    "def plot(y_test, y_pred):\n",
    "    plt.figure(figsize=(4, 4))\n",
    "    plt.scatter(y_test, y_pred, c='blue', alpha=0.4)\n",
    "    plt.plot([0, 200], [0, 200], c='black', alpha=0.5)\n",
    "    plt.xlabel('True')\n",
    "    plt.ylabel('Pred')\n",
    "    plt.show()"
   ]
  },
  {
   "cell_type": "code",
   "execution_count": null,
   "id": "74b1d437",
   "metadata": {},
   "outputs": [],
   "source": [
    "model_list = ['LGBM']"
   ]
  },
  {
   "cell_type": "code",
   "execution_count": null,
   "id": "4841aac5",
   "metadata": {},
   "outputs": [],
   "source": [
    "G_model_list = []\n",
    "G_r2_list = []\n",
    "G_mse_list = []\n",
    "G_mae_list = []\n",
    "G_rand_list = []\n",
    "\n",
    "for i in tqdm(range(len(model_list))):\n",
    "    model = model_list[i]\n",
    "    print(model)\n",
    "    for r in tqdm(range(0, 1000, 100)):\n",
    "        print(r)\n",
    "        x_train, x_test, y_train, y_test = prepro(df, G, scaling=True, test=0.2, seed=r)\n",
    "        r2, mse, mae, y_test, y_pred, feat = predict(model, x_train, x_test, y_train, y_test)\n",
    "        print('R2 :', round(r2, 2))\n",
    "        print('MSE :', round(mse, 2))\n",
    "        print('MAE :', round(mae, 2))\n",
    "        plot(y_test, y_pred)\n",
    "        G_model_list.append(model)\n",
    "        G_r2_list.append(round(r2, 4))\n",
    "        G_mse_list.append(round(mse, 4))\n",
    "        G_mae_list.append(round(mae, 4))\n",
    "        G_rand_list.append(r)\n",
    "        feat_df = pd.DataFrame({'Features':df.columns, 'Importances':feat})\n",
    "        feat_df = feat_df.sort_values(['Importances'], ascending=False).reset_index(drop=True)\n",
    "        feat_df.to_csv(f'../data/G_feature_importance_by_{model}_{r}.csv', index=False)"
   ]
  },
  {
   "cell_type": "code",
   "execution_count": null,
   "id": "c9370e08",
   "metadata": {},
   "outputs": [],
   "source": []
  }
 ],
 "metadata": {
  "kernelspec": {
   "display_name": "Python 3 (ipykernel)",
   "language": "python",
   "name": "python3"
  },
  "language_info": {
   "codemirror_mode": {
    "name": "ipython",
    "version": 3
   },
   "file_extension": ".py",
   "mimetype": "text/x-python",
   "name": "python",
   "nbconvert_exporter": "python",
   "pygments_lexer": "ipython3",
   "version": "3.8.12"
  }
 },
 "nbformat": 4,
 "nbformat_minor": 5
}
